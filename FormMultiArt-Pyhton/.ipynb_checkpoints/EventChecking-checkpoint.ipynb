{
 "cells": [
  {
   "cell_type": "code",
   "execution_count": 1,
   "metadata": {},
   "outputs": [],
   "source": [
    "import pickle"
   ]
  },
  {
   "cell_type": "code",
   "execution_count": 2,
   "metadata": {},
   "outputs": [
    {
     "name": "stdout",
     "output_type": "stream",
     "text": [
      "There are 5 events!\n",
      "There are 187 articles!\n",
      "There are 407 authors!\n",
      "There are 610 articles-authors relationships!\n",
      "There are 366 forms!\n"
     ]
    }
   ],
   "source": [
    "# pkl files and data structures\n",
    "pkl_path = 'pkl\\\\'\n",
    "\n",
    "# load the events data structure (if it exists)\n",
    "events_fn = 'events.pkl'\n",
    "events_modified = False\n",
    "\n",
    "# verify if the file exists\n",
    "try:\n",
    "    with open(pkl_path+events_fn,\"rb\") as events_in:\n",
    "        events = pickle.load(events_in)\n",
    "except FileNotFoundError:\n",
    "    events = []\n",
    "print ('There are {0} events!'.format(len(events)))\n",
    "#print (events)\n",
    "\n",
    "# load the articles data structure (if it exists)\n",
    "articles_fn = 'articles.pkl'\n",
    "articles_modified = False\n",
    "\n",
    "# verify if the file exists\n",
    "try:\n",
    "    with open(pkl_path+articles_fn,\"rb\") as articles_in:\n",
    "        articles = pickle.load(articles_in)\n",
    "except FileNotFoundError:\n",
    "    articles = []\n",
    "print ('There are {0} articles!'.format(len(articles)))\n",
    "#print (articles)\n",
    "\n",
    "# load the authors data structure (if it exists)\n",
    "authors_fn = 'authors.pkl'\n",
    "authors_modified = False\n",
    "\n",
    "# verify if the file exists\n",
    "try:\n",
    "    with open(pkl_path+authors_fn,\"rb\") as authors_in:\n",
    "        authors = pickle.load(authors_in)\n",
    "except FileNotFoundError:\n",
    "    authors = []\n",
    "print ('There are {0} authors!'.format(len(authors)))\n",
    "#print (authors)\n",
    "\n",
    "# load the articles/authors data structure (if it exists)\n",
    "art_aut_fn = 'art_aut.pkl'\n",
    "art_aut_modified = False\n",
    "\n",
    "# verify if the file exists\n",
    "try:\n",
    "    with open(pkl_path+art_aut_fn,\"rb\") as art_aut_in:\n",
    "        art_aut = pickle.load(art_aut_in)\n",
    "except FileNotFoundError:\n",
    "    art_aut = []\n",
    "print ('There are {0} articles-authors relationships!'.format(len(art_aut)))\n",
    "#print (art_aut)\n",
    "\n",
    "# load the forms data structure (if it exists)\n",
    "forms_fn = 'forms.pkl'\n",
    "forms_modified = False\n",
    "\n",
    "# verify if the file exists\n",
    "try:\n",
    "    with open(pkl_path+forms_fn,\"rb\") as forms_in:\n",
    "        forms = pickle.load(forms_in)\n",
    "except FileNotFoundError:\n",
    "    forms = []\n",
    "print ('There are {0} forms!'.format(len(forms)))\n",
    "#print (art_aut)\n"
   ]
  },
  {
   "cell_type": "code",
   "execution_count": 4,
   "metadata": {
    "scrolled": false
   },
   "outputs": [
    {
     "name": "stdout",
     "output_type": "stream",
     "text": [
      "EPCG 2012 20o Encontro Português de Computação Gráfica 2012\n",
      "{'ID': '2012_0007', 'event': 'EPCG 2012', 'title': 'Interface Caligráfica de Escrita no Ar', 'file': '2012_0007-Article.pdf', 'state': 'loaded'}\n",
      "\t#papers =  24\n",
      "\t  #auth =  23\n",
      "\n",
      "SIACG 2011 V Ibero-American Symposium in Computer Graphics 2011\n",
      "{'ID': '2011_0027', 'event': 'SIACG 2011', 'title': 'A Web3DGIS Framework using CityGML and X3D ', 'file': '2011_0027-Article.pdf', 'state': 'loaded'}\n",
      "{'ID': '2011_0049', 'event': 'SIACG 2011', 'title': 'Bifurcation Parameterization of Vascular Structure using a Non-linea Model Fitting', 'file': '2011_0049-Article.pdf', 'state': 'loaded'}\n",
      "\t#papers =  34\n",
      "\t  #auth =  32\n",
      "\n",
      "Interação 2010 4ª Conferência Nacional em Interacção Humano-Computador 2010\n",
      "{'ID': '2010_0020', 'event': 'Interação 2010', 'title': 'The Genio Centred on the Human Being  A Methodology for Fast Development Centred on the Human Being', 'file': '2010_0020-Article.pdf', 'state': 'loaded'}\n",
      "{'ID': '2010_0043', 'event': 'Interação 2010', 'title': 'MMORPGs e culturas de convergência ', 'file': '2010_0043-Article.pdf', 'state': 'loaded'}\n",
      "{'ID': '2010_0056', 'event': 'Interação 2010', 'title': 'Interfaces para Hipervídeo em 360º', 'file': '2010_0056-Article.pdf', 'state': 'loaded'}\n",
      "\t#papers =  55\n",
      "\t  #auth =  52\n",
      "\n",
      "EPCG 2009 17º Encontro Português de Computação Gráfica 2009\n",
      "{'ID': '2009_0047', 'event': 'EPCG 2009', 'title': 'iWoW : Iinteractive World of Warcraft', 'file': '2009_0047-Article.pdf', 'state': 'loaded'}\n",
      "\t#papers =  40\n",
      "\t  #auth =  39\n",
      "\n",
      "Interação 2008 2ª Conferência Nacional em Interacção Humano-Computador 2008\n",
      "{'ID': '2008_0020', 'event': 'Interação 2008', 'title': 'Processo de Teste de Interfaces Gráficas com o Utilizador Baseado em Modelos Visuais (VAN4GUIM)1', 'file': '2008_0020-Article.pdf', 'state': 'loaded'}\n",
      "{'ID': '2008_0038', 'event': 'Interação 2008', 'title': 'Projecto FUN (Find Ur Neighbours): Processo de construção de uma aplicação social na Web ', 'file': '2008_0038-Article.pdf', 'state': 'loaded'}\n",
      "\t#papers =  34\n",
      "\t  #auth =  32\n",
      "\n",
      "--- TOTALS ---\n",
      "#events =  5\n",
      "#papers =  187\n",
      "#auth =  178\n"
     ]
    }
   ],
   "source": [
    "TotalPapers = 0\n",
    "TotalPapersAuth = 0\n",
    "for event in events:\n",
    "    print (event['acr'],event['name'],event['year'])\n",
    "    event_acr = event['acr']\n",
    "    nPapers=0\n",
    "    nPapersAuth=0\n",
    "    for article in articles:\n",
    "        if article['event']==event_acr:\n",
    "            nPapers+=1\n",
    "            if article['state']=='auth' or article['state']=='authF':\n",
    "                nPapersAuth += 1\n",
    "            #else:\n",
    "            #    print (article)\n",
    "    print ('\\t#papers = ', nPapers)\n",
    "    print ('\\t  #auth = ', nPapersAuth)\n",
    "    if (nPapers==nPapersAuth):\n",
    "        print (\"**** COMPLETED ****\")\n",
    "    print()\n",
    "    TotalPapers += nPapers\n",
    "    TotalPapersAuth += nPapersAuth\n",
    "    \n",
    "print (\"--- TOTALS ---\")\n",
    "print (\"#events = \",len(events))\n",
    "print ('#papers = ', TotalPapers)\n",
    "print ('#auth = ', TotalPapersAuth)\n"
   ]
  },
  {
   "cell_type": "code",
   "execution_count": null,
   "metadata": {},
   "outputs": [],
   "source": [
    "print (\"That's all, folks!\")"
   ]
  },
  {
   "cell_type": "code",
   "execution_count": null,
   "metadata": {},
   "outputs": [],
   "source": []
  }
 ],
 "metadata": {
  "kernelspec": {
   "display_name": "Python 3",
   "language": "python",
   "name": "python3"
  },
  "language_info": {
   "codemirror_mode": {
    "name": "ipython",
    "version": 3
   },
   "file_extension": ".py",
   "mimetype": "text/x-python",
   "name": "python",
   "nbconvert_exporter": "python",
   "pygments_lexer": "ipython3",
   "version": "3.7.0"
  }
 },
 "nbformat": 4,
 "nbformat_minor": 2
}
