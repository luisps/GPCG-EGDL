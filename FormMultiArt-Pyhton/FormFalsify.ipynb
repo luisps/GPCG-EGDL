{
 "cells": [
  {
   "cell_type": "code",
   "execution_count": 1,
   "metadata": {},
   "outputs": [],
   "source": [
    "import pickle"
   ]
  },
  {
   "cell_type": "code",
   "execution_count": 2,
   "metadata": {},
   "outputs": [
    {
     "name": "stdout",
     "output_type": "stream",
     "text": [
      "There are 5 events!\n",
      "There are 187 articles!\n",
      "There are 407 authors!\n",
      "There are 610 articles-authors relationships!\n",
      "There are 366 forms!\n"
     ]
    }
   ],
   "source": [
    "# pkl files and data structures\n",
    "pkl_path = 'pkl\\\\'\n",
    "\n",
    "# load the events data structure (if it exists)\n",
    "events_fn = 'events.pkl'\n",
    "events_modified = False\n",
    "\n",
    "# verify if the file exists\n",
    "try:\n",
    "    with open(pkl_path+events_fn,\"rb\") as events_in:\n",
    "        events = pickle.load(events_in)\n",
    "except FileNotFoundError:\n",
    "    events = []\n",
    "print ('There are {0} events!'.format(len(events)))\n",
    "#print (events)\n",
    "\n",
    "# load the articles data structure (if it exists)\n",
    "articles_fn = 'articles.pkl'\n",
    "articles_modified = False\n",
    "\n",
    "# verify if the file exists\n",
    "try:\n",
    "    with open(pkl_path+articles_fn,\"rb\") as articles_in:\n",
    "        articles = pickle.load(articles_in)\n",
    "except FileNotFoundError:\n",
    "    articles = []\n",
    "print ('There are {0} articles!'.format(len(articles)))\n",
    "#print (articles)\n",
    "\n",
    "# load the authors data structure (if it exists)\n",
    "authors_fn = 'authors.pkl'\n",
    "authors_modified = False\n",
    "\n",
    "# verify if the file exists\n",
    "try:\n",
    "    with open(pkl_path+authors_fn,\"rb\") as authors_in:\n",
    "        authors = pickle.load(authors_in)\n",
    "except FileNotFoundError:\n",
    "    authors = []\n",
    "print ('There are {0} authors!'.format(len(authors)))\n",
    "#print (authors)\n",
    "\n",
    "# load the articles/authors data structure (if it exists)\n",
    "art_aut_fn = 'art_aut.pkl'\n",
    "art_aut_modified = False\n",
    "\n",
    "# verify if the file exists\n",
    "try:\n",
    "    with open(pkl_path+art_aut_fn,\"rb\") as art_aut_in:\n",
    "        art_aut = pickle.load(art_aut_in)\n",
    "except FileNotFoundError:\n",
    "    art_aut = []\n",
    "print ('There are {0} articles-authors relationships!'.format(len(art_aut)))\n",
    "#print (art_aut)\n",
    "\n",
    "# load the forms data structure (if it exists)\n",
    "forms_fn = 'forms.pkl'\n",
    "forms_modified = False\n",
    "\n",
    "# verify if the file exists\n",
    "try:\n",
    "    with open(pkl_path+forms_fn,\"rb\") as forms_in:\n",
    "        forms = pickle.load(forms_in)\n",
    "except FileNotFoundError:\n",
    "    forms = []\n",
    "print ('There are {0} forms!'.format(len(forms)))\n",
    "#print (art_aut)\n"
   ]
  },
  {
   "cell_type": "code",
   "execution_count": 3,
   "metadata": {
    "scrolled": false
   },
   "outputs": [
    {
     "name": "stdout",
     "output_type": "stream",
     "text": [
      "{'ignore': 220, 'auth': 114, 'loaded': 20, 'authF': 8, 'falsify': 4}\n"
     ]
    }
   ],
   "source": [
    "# check forms: if all papers have been 'auth' then ignore form\n",
    "form_count = {}\n",
    "for form in forms:\n",
    "\n",
    "    if form['state']!='auth' and form['state']!='ignore' and form['state']!='authF':\n",
    "        # check whether all papers have been authorized\n",
    "        ignore = True\n",
    "        for art_ID in form['articles']:\n",
    "            for article in articles:\n",
    "                if (art_ID==article['ID']):\n",
    "                    if article['state']!='auth' and article['state']!='authF':\n",
    "                        ignore = False\n",
    "                    break\n",
    "        if ignore:\n",
    "            form['state'] = 'ignore'\n",
    "            forms_modified = True\n",
    "    \n",
    "    if form['state'] in form_count:\n",
    "        form_count[form['state']] += 1\n",
    "    else:\n",
    "        form_count[form['state']] = 1\n",
    "        \n",
    "print (form_count)\n",
    "\n",
    "    "
   ]
  },
  {
   "cell_type": "code",
   "execution_count": null,
   "metadata": {
    "scrolled": true
   },
   "outputs": [
    {
     "name": "stdout",
     "output_type": "stream",
     "text": [
      "\n",
      " Author: A. Amundarain\n",
      "\n",
      "\tTitle: Real-Time Modelling and Rendering of Sprayed Concrete (state=loaded)\n",
      "Mark form as falsified (F) or proceed (n):F\n",
      "\n",
      "\n",
      " Author: L. Hadjileontiadis\n",
      "\n",
      "\tTitle: A Colour Rotation Based Detector for Bleeding Gastric  Pathologies  (state=loaded)\n",
      "Mark form as falsified (F) or proceed (n):F\n",
      "\n",
      "\n",
      " Author: Alda Lopes Gançarski\n",
      "\n",
      "\tTitle: GUI for XML Documents Accessusing Query-By-Example Paradigm (state=loaded)\n",
      "Mark form as falsified (F) or proceed (n):F\n",
      "\n",
      "\n",
      " Author: Cláudia Mourato Nunes\n",
      "\n",
      "\tTitle: Interacção do Sénior com Jardim de Lar:  Desenvolvimento de um Guião de Entrevista  (state=loaded)\n"
     ]
    }
   ],
   "source": [
    "\n",
    "for form in forms:\n",
    "    if form['state']!='falsify':\n",
    "        continue\n",
    "\n",
    "    for author in authors:\n",
    "        if author['ID']==form['ID']:\n",
    "            author_name = author['name']\n",
    "            print ('\\n Author: {0}\\n'.format(author_name))\n",
    "            break\n",
    "    \n",
    "    for art_ID in form['articles']:\n",
    "        for article in articles:\n",
    "            if (art_ID==article['ID']):\n",
    "                print (\"\\tTitle: {0} (state={1})\".format(article['title'],article['state']))\n",
    "                break\n",
    "   \n",
    "\n",
    "    authorize = input ('Mark form as falsified (F) or proceed (n):')\n",
    "    if authorize == 'F':\n",
    "        form['state']='authF'\n",
    "        author['state']='authF'\n",
    "        # locate articles\n",
    "        for art_ID in form['articles']:\n",
    "            for article in articles:\n",
    "                if (art_ID==article['ID']):\n",
    "                    article['state']='authF'\n",
    "                    break\n",
    "        forms_modified = True\n",
    "        \n",
    "    print()\n",
    "\n"
   ]
  },
  {
   "cell_type": "code",
   "execution_count": null,
   "metadata": {},
   "outputs": [],
   "source": [
    "if forms_modified:\n",
    "    with open(pkl_path+forms_fn,\"wb\") as forms_out:\n",
    "        pickle.dump(forms, forms_out)\n",
    "    with open(pkl_path+articles_fn,\"wb\") as articles_out:\n",
    "        pickle.dump(articles, articles_out)\n",
    "    with open(pkl_path+authors_fn,\"wb\") as authors_out:\n",
    "        pickle.dump(authors, authors_out)\n",
    "\n",
    "    print (\"Data written to disk!\")\n"
   ]
  },
  {
   "cell_type": "code",
   "execution_count": null,
   "metadata": {},
   "outputs": [],
   "source": [
    "print (\"That's all, folks!\")"
   ]
  }
 ],
 "metadata": {
  "kernelspec": {
   "display_name": "Python 3",
   "language": "python",
   "name": "python3"
  },
  "language_info": {
   "codemirror_mode": {
    "name": "ipython",
    "version": 3
   },
   "file_extension": ".py",
   "mimetype": "text/x-python",
   "name": "python",
   "nbconvert_exporter": "python",
   "pygments_lexer": "ipython3",
   "version": "3.7.0"
  }
 },
 "nbformat": 4,
 "nbformat_minor": 2
}
