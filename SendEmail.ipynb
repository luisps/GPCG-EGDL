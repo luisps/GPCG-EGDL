{
 "cells": [
  {
   "cell_type": "code",
   "execution_count": 1,
   "metadata": {},
   "outputs": [],
   "source": [
    "from email.mime.text import MIMEText\n",
    "from email.mime.multipart import MIMEMultipart\n",
    "from email import encoders\n",
    "from email.mime.base import MIMEBase\n",
    "\n",
    "import smtplib, ssl\n",
    "\n",
    "import csv"
   ]
  },
  {
   "cell_type": "code",
   "execution_count": 2,
   "metadata": {},
   "outputs": [],
   "source": [
    "path = \"2013\\\\\"\n",
    "#path = \"2014\\\\\"\n",
    "\n",
    "csv_filename = path+'2013Interacao.csv'\n",
    "#csv_filename = path+'2014EPCG.csv'"
   ]
  },
  {
   "cell_type": "code",
   "execution_count": 3,
   "metadata": {},
   "outputs": [],
   "source": [
    "# email server (sending) settings\n",
    "\n",
    "smtp_server_address = \"mail.gpcg.pt\"\n",
    "smtp_server_port = 465  # For SSL\n",
    "\n",
    "# user credentials\n",
    "username=\"publicacoes@gpcg.pt\"\n",
    "password=\"GPCG2020egdl\"\n"
   ]
  },
  {
   "cell_type": "code",
   "execution_count": 4,
   "metadata": {},
   "outputs": [],
   "source": [
    "# The message sender\n",
    "sender_email = \"publicacoes@gpcg.pt\"\n",
    "\n",
    "# The message destination cc address\n",
    "cc_email = \"publicacoes@gpcg.pt\"\n"
   ]
  },
  {
   "cell_type": "code",
   "execution_count": 5,
   "metadata": {},
   "outputs": [],
   "source": [
    "#  The message\n",
    "message1_subject = \"GPCG - {acronym}, paper {articleID}: authorization to publish paper in EG Digital Library\"\n",
    "message1_template = \"\"\"\\\n",
    "Caros autores do artigo / Dear authors of paper (see english text below),\n",
    "\n",
    "{title}\n",
    "\n",
    "publicado no\n",
    "\n",
    "{event}\n",
    "\n",
    "o Grupo Português de Computação Gráfica (GPCG) pretende disponibilizar os artigos publicados \n",
    "neste evento na Biblioteca Digital da Eurographics.\n",
    "\n",
    "Para esse efeito necessitamos da autorização dos autores, conforme formulário em anexo. \n",
    "Bastará um dos autores autorizar em representação de todos.\n",
    "Solicitamos que esse autor assine este formulário e envie o respectivo PDF para publicacoes@gpcg.pt\n",
    "\n",
    "Agradecemos que essa resposta por correio electrónico seja feita respondendo a esta mensagem, \n",
    "sem alterar o campo \"Assunto\" nem o nome do ficheiro contendo o formulário, facilitando assim\n",
    "o rastreamento automático das respostas que formos recebendo.\n",
    "\n",
    "Relembramos que a disponibilização destas publicações na biblioteca digital do GPCG\n",
    "permitirá preservar o acervo bibliográfico do GPCG\n",
    "e contribuirá para o aumento da visibilidade das mesmas.\n",
    "\n",
    "Com os melhores cumprimentos,\n",
    "\n",
    "a Direcção do GPCG\n",
    "\n",
    "--------------- ENGLISH VERSION -------------------\n",
    "\n",
    "Dear authors of paper,\n",
    "\n",
    "{title}\n",
    "\n",
    "published on\n",
    "\n",
    "{event}\n",
    "\n",
    "the Eurographics Portuguese Chapter (Grupo Português de Computação Gráfica - GPCG) \n",
    "aims to make available in the Eurographics Digital Library all the papers\n",
    "published in this event.\n",
    "\n",
    "We need the authors authorization, as described in the attached form.\n",
    "It is enough that one of the authors authorizes. \n",
    "We request that author to sign this form and send the respective PDF by email to publicacoes@gpcg.pt\n",
    "\n",
    "Please send the signed form by replying to this message, without changing neither the \"Subject\" \n",
    "nor the form's filename. \n",
    "That will help on automatically keeping track of the large number of replies we are expecting.\n",
    "\n",
    "Making these publications available in the Eurographics Digital Library will preserve \n",
    "GPCG's bibliographic collection and will contribute to increase each publication visibility.\n",
    "\n",
    "Best regards,\n",
    "\n",
    "GPCG Direction Board\"\"\""
   ]
  },
  {
   "cell_type": "code",
   "execution_count": 6,
   "metadata": {},
   "outputs": [],
   "source": [
    "#  The message\n",
    "message_subject = \"REMINDER: GPCG - {acronym}, paper {articleID}: authorization to publish paper in EG Digital Library\"\n",
    "message_template = \"\"\"\\\n",
    "Caros autores do artigo / Dear authors of paper (see english text below),\n",
    "\n",
    "{title}\n",
    "\n",
    "publicado no\n",
    "\n",
    "{event}\n",
    "\n",
    "vimos por este meio solicitar a vossa atenção para este pedido do GPCG. \n",
    "Receber esta autorização é fundamental para que estas actas possam ser publicadas.\n",
    "Apenas após a recepção de todas as autorizações é que poderemos enviar à Eurographics\n",
    "a totalidade das actas de {event}\n",
    "\n",
    "Faltam-nos apenas algumas autorizações,\n",
    "pelo que agradecemos uma resposta com a brevidade possivel. \n",
    "\n",
    "Cumprimentos,\n",
    "\n",
    "a direcção do GPCG\n",
    "-----------------------------------------------\n",
    "\n",
    "o Grupo Português de Computação Gráfica (GPCG) pretende disponibilizar os artigos publicados \n",
    "neste evento na Biblioteca Digital da Eurographics.\n",
    "\n",
    "Para esse efeito necessitamos da autorização dos autores, conforme formulário em anexo. \n",
    "Bastará um dos autores autorizar em representação de todos.\n",
    "Solicitamos que esse autor assine este formulário e envie o respectivo PDF para publicacoes@gpcg.pt\n",
    "\n",
    "Agradecemos que essa resposta por correio electrónico seja feita respondendo a esta mensagem, \n",
    "sem alterar o campo \"Assunto\" nem o nome do ficheiro contendo o formulário, facilitando assim\n",
    "o rastreamento automático das respostas que formos recebendo.\n",
    "\n",
    "Relembramos que a disponibilização destas publicações na biblioteca digital do GPCG\n",
    "permitirá preservar o acervo bibliográfico do GPCG\n",
    "e contribuirá para o aumento da visibilidade das mesmas.\n",
    "\n",
    "Com os melhores cumprimentos,\n",
    "\n",
    "a Direcção do GPCG\n",
    "\n",
    "--------------- ENGLISH VERSION -------------------\n",
    "\n",
    "Dear authors of paper,\n",
    "\n",
    "{title}\n",
    "\n",
    "published on\n",
    "\n",
    "{event}\n",
    "\n",
    "the Eurographics Portuguese Chapter (Grupo Português de Computação Gráfica - GPCG) \n",
    "aims to make available in the Eurographics Digital Library all the papers\n",
    "published in this event.\n",
    "\n",
    "We need the authors authorization, as described in the attached form.\n",
    "It is enough that one of the authors authorizes. \n",
    "We request that author to sign this form and send the respective PDF by email to publicacoes@gpcg.pt\n",
    "\n",
    "Please send the signed form by replying to this message, without changing neither the \"Subject\" \n",
    "nor the form's filename. \n",
    "That will help on automatically keeping track of the large number of replies we are expecting.\n",
    "\n",
    "Making these publications available in the Eurographics Digital Library will preserve \n",
    "GPCG's bibliographic collection and will contribute to increase each publication visibility.\n",
    "\n",
    "Best regards,\n",
    "\n",
    "GPCG Direction Board\"\"\""
   ]
  },
  {
   "cell_type": "code",
   "execution_count": 7,
   "metadata": {},
   "outputs": [
    {
     "name": "stdout",
     "output_type": "stream",
     "text": [
      "{'ArticleID': 0, 'Type': 1, 'Title': 2, 'State': 5, 'Acronym': 18, 'Event': 16, 'File': 14, 'LicenseFile': 15, 'AuthorsContact': [8, 21, 25, 29, 33, 37, 41, 45, 49]}\n"
     ]
    }
   ],
   "source": [
    "# Read the CSV header and identify relevant columns (this is row 0)\n",
    "\n",
    "with open(csv_filename,\"rt\") as csv_in:\n",
    "\n",
    "    csv_col = {}  # our dictionary of csv columns\n",
    "    \n",
    "    for rownbr, row in enumerate (csv.reader(csv_in, delimiter=\";\")):\n",
    "        \n",
    "        csv_col['ArticleID'] = row.index ('ArticleID')\n",
    "        csv_col['Type'] = row.index ('Type')\n",
    "        csv_col['Title'] = row.index ('Title')\n",
    "        csv_col['State'] = row.index ('State')\n",
    "        csv_col['Acronym'] = row.index ('Acronym')\n",
    "        csv_col['Event'] = row.index ('Event')\n",
    "        csv_col['File'] = row.index ('File')\n",
    "        csv_col['LicenseFile'] = row.index ('LicenseFile')\n",
    "        csv_col['AuthorsContact'] = []\n",
    "        for nbr_au in range(10):\n",
    "            field_name = 'Author'+str(nbr_au)+'Contact'\n",
    "            if field_name in row:\n",
    "                csv_col['AuthorsContact'].append(row.index (field_name))\n",
    "        \n",
    "        break   # process only line 0\n",
    "    \n",
    "print(csv_col)\n"
   ]
  },
  {
   "cell_type": "code",
   "execution_count": 8,
   "metadata": {},
   "outputs": [],
   "source": [
    "# Create a secure SSL context\n",
    "context = ssl.create_default_context()\n",
    "\n",
    "# login\n",
    "try:\n",
    "    server = smtplib.SMTP_SSL(smtp_server_address, smtp_server_port, context=context)\n",
    "    server.login(username, password)\n",
    "except:\n",
    "    print (\"Unexpected error creating and logging to SMTP server. Terminate!\")\n",
    "    raise  "
   ]
  },
  {
   "cell_type": "code",
   "execution_count": 9,
   "metadata": {
    "scrolled": true
   },
   "outputs": [
    {
     "name": "stdout",
     "output_type": "stream",
     "text": [
      "Sent email for paper 31\n",
      "Sent email for paper 32\n",
      "Sent email for paper 33\n",
      "Sent email for paper 35\n",
      "Sent email for paper 36\n",
      "Sent email for paper 37\n",
      "Sent email for paper 38\n",
      "Sent email for paper 39\n",
      "Sent email for paper 42\n"
     ]
    }
   ],
   "source": [
    "\n",
    "with open(csv_filename,\"rt\") as csv_in:\n",
    "    \n",
    "    for rownbr, row in enumerate (csv.reader(csv_in, delimiter=\";\")):\n",
    "        \n",
    "        if rownbr==0: continue    # skip the header\n",
    "\n",
    "        if row[csv_col['Type']] != 'Article': continue # process only Articles\n",
    "        if row[csv_col['State']] != 'email enviado': continue # process only Articles\n",
    "        if int(row[csv_col['ArticleID']]) <= 28: continue # process only Articles\n",
    "            \n",
    "        # Build the MIME message\n",
    "        message = MIMEMultipart()\n",
    "        message[\"Subject\"] = message_subject.format(acronym=row[csv_col[\"Acronym\"]],\n",
    "                                                   articleID=row[csv_col[\"ArticleID\"]])\n",
    "        message[\"From\"] = sender_email\n",
    "        message[\"Cc\"] = cc_email\n",
    "\n",
    "        # collect all authors emails\n",
    "        destination_email = []\n",
    "        to_str = \"\"\n",
    "        for au_col in csv_col['AuthorsContact']:\n",
    "            au_email = row[au_col]\n",
    "            if au_email == \"\": continue\n",
    "                \n",
    "            if len(destination_email) > 0:   # not the first email address\n",
    "                to_str = to_str + \"; \"\n",
    "            to_str = to_str + au_email\n",
    "            destination_email.append (au_email)\n",
    "        \n",
    "        if len(destination_email)==0:  # empty list of destinations\n",
    "            continue\n",
    "        message[\"To\"] = to_str    \n",
    "\n",
    "        message_text = message_template.format(title=row[csv_col['Title']],\n",
    "                                              event=row[csv_col['Event']],)\n",
    "        message.attach(MIMEText(message_text,\"plain\"))\n",
    "    \n",
    "        # read the attached files\n",
    "        for filename in [row[csv_col['File']],row[csv_col['LicenseFile']]]:\n",
    "            # Open PDF file in binary mode\n",
    "            fN = path + filename\n",
    "            with open(fN, \"rb\") as attachment:\n",
    "                # Add file as application/octet-stream\n",
    "                # Email client can usually download this automatically as attachment\n",
    "                part = MIMEBase(\"application\", \"octet-stream\")\n",
    "                part.set_payload(attachment.read())\n",
    "        \n",
    "            # Encode file in ASCII characters to send by email    \n",
    "            encoders.encode_base64(part)\n",
    "\n",
    "            # Add header as key/value pair to attachment part\n",
    "            part.add_header(\n",
    "                \"Content-Disposition\",\n",
    "                f\"attachment; filename= {filename}\",\n",
    "            )\n",
    "    \n",
    "            # Add attachment to message \n",
    "            message.attach(part)\n",
    "        # attachment PDFs DONE\n",
    "    \n",
    "        #convert message to string\n",
    "        str_msg = message.as_string()\n",
    "    \n",
    "        # send message\n",
    "        destination_email.append(cc_email)\n",
    "        server.sendmail(sender_email, destination_email, str_msg)\n",
    "        print ('Sent email for paper {0}'.format(row[csv_col[\"ArticleID\"]]))\n",
    "        \n",
    "        # debug\n",
    "        #print (destination_addresses)\n",
    "        #print(message[\"Subject\"])\n",
    "        #print(message_text)\n",
    "    # all rows of CSV done\n",
    "# CSV closed\n"
   ]
  },
  {
   "cell_type": "code",
   "execution_count": 10,
   "metadata": {},
   "outputs": [
    {
     "data": {
      "text/plain": [
       "(221, b'cp29.webserver.pt closing connection')"
      ]
     },
     "execution_count": 10,
     "metadata": {},
     "output_type": "execute_result"
    }
   ],
   "source": [
    "# close the SMTP connection\n",
    "server.quit()"
   ]
  },
  {
   "cell_type": "code",
   "execution_count": 11,
   "metadata": {},
   "outputs": [
    {
     "name": "stdout",
     "output_type": "stream",
     "text": [
      "That's all, folks!\n"
     ]
    }
   ],
   "source": [
    "print (\"That's all, folks!\")"
   ]
  }
 ],
 "metadata": {
  "kernelspec": {
   "display_name": "Python 3",
   "language": "python",
   "name": "python3"
  },
  "language_info": {
   "codemirror_mode": {
    "name": "ipython",
    "version": 3
   },
   "file_extension": ".py",
   "mimetype": "text/x-python",
   "name": "python",
   "nbconvert_exporter": "python",
   "pygments_lexer": "ipython3",
   "version": "3.7.0"
  }
 },
 "nbformat": 4,
 "nbformat_minor": 2
}
