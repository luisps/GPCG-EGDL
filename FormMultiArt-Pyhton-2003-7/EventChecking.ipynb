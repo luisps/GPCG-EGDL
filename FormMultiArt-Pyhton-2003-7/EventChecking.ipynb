{
 "cells": [
  {
   "cell_type": "code",
   "execution_count": 1,
   "metadata": {},
   "outputs": [],
   "source": [
    "import pickle"
   ]
  },
  {
   "cell_type": "code",
   "execution_count": 2,
   "metadata": {},
   "outputs": [
    {
     "name": "stdout",
     "output_type": "stream",
     "text": [
      "There are 5 events!\n",
      "There are 162 articles!\n",
      "There are 341 authors!\n",
      "There are 506 articles-authors relationships!\n",
      "There are 321 forms!\n"
     ]
    }
   ],
   "source": [
    "# pkl files and data structures\n",
    "pkl_path = 'pkl\\\\'\n",
    "\n",
    "# load the events data structure (if it exists)\n",
    "events_fn = 'events.pkl'\n",
    "events_modified = False\n",
    "\n",
    "# verify if the file exists\n",
    "try:\n",
    "    with open(pkl_path+events_fn,\"rb\") as events_in:\n",
    "        events = pickle.load(events_in)\n",
    "except FileNotFoundError:\n",
    "    events = []\n",
    "print ('There are {0} events!'.format(len(events)))\n",
    "#print (events)\n",
    "\n",
    "# load the articles data structure (if it exists)\n",
    "articles_fn = 'articles.pkl'\n",
    "articles_modified = False\n",
    "\n",
    "# verify if the file exists\n",
    "try:\n",
    "    with open(pkl_path+articles_fn,\"rb\") as articles_in:\n",
    "        articles = pickle.load(articles_in)\n",
    "except FileNotFoundError:\n",
    "    articles = []\n",
    "print ('There are {0} articles!'.format(len(articles)))\n",
    "#print (articles)\n",
    "\n",
    "# load the authors data structure (if it exists)\n",
    "authors_fn = 'authors.pkl'\n",
    "authors_modified = False\n",
    "\n",
    "# verify if the file exists\n",
    "try:\n",
    "    with open(pkl_path+authors_fn,\"rb\") as authors_in:\n",
    "        authors = pickle.load(authors_in)\n",
    "except FileNotFoundError:\n",
    "    authors = []\n",
    "print ('There are {0} authors!'.format(len(authors)))\n",
    "#print (authors)\n",
    "\n",
    "# load the articles/authors data structure (if it exists)\n",
    "art_aut_fn = 'art_aut.pkl'\n",
    "art_aut_modified = False\n",
    "\n",
    "# verify if the file exists\n",
    "try:\n",
    "    with open(pkl_path+art_aut_fn,\"rb\") as art_aut_in:\n",
    "        art_aut = pickle.load(art_aut_in)\n",
    "except FileNotFoundError:\n",
    "    art_aut = []\n",
    "print ('There are {0} articles-authors relationships!'.format(len(art_aut)))\n",
    "#print (art_aut)\n",
    "\n",
    "# load the forms data structure (if it exists)\n",
    "forms_fn = 'forms.pkl'\n",
    "forms_modified = False\n",
    "\n",
    "# verify if the file exists\n",
    "try:\n",
    "    with open(pkl_path+forms_fn,\"rb\") as forms_in:\n",
    "        forms = pickle.load(forms_in)\n",
    "except FileNotFoundError:\n",
    "    forms = []\n",
    "print ('There are {0} forms!'.format(len(forms)))\n",
    "\n",
    "\n",
    "#print (art_aut)\n"
   ]
  },
  {
   "cell_type": "code",
   "execution_count": 3,
   "metadata": {},
   "outputs": [
    {
     "name": "stdout",
     "output_type": "stream",
     "text": [
      "{'auth': 72, 'ignore': 195, 'authF': 12, 'newEmail': 15, 'emailNotFound': 9, 'loaded': 18}\n"
     ]
    }
   ],
   "source": [
    "# check forms: if all papers have been 'auth' then ignore form\n",
    "form_count = {}\n",
    "for form in forms:\n",
    "\n",
    "    if form['state'] in form_count:\n",
    "        form_count[form['state']] += 1\n",
    "    else:\n",
    "        form_count[form['state']] = 1\n",
    "        \n",
    "print (form_count)"
   ]
  },
  {
   "cell_type": "code",
   "execution_count": 6,
   "metadata": {
    "scrolled": false
   },
   "outputs": [
    {
     "name": "stdout",
     "output_type": "stream",
     "text": [
      "EPCG2003 12 Encontro Portugues de Computacao Grafica 2003\n",
      "\t#papers =  24\n",
      "\t  #auth =  24\n",
      "**** COMPLETED ****\n",
      "\n",
      "Interacao2004 1ª Conferência Nacional em Interacção Pessoa-Máquina 2004\n",
      "{'ID': '2004_0017', 'event': 'Interacao2004', 'title': 'Metodologia para o Desenvolvimento de um Sistema Multimédia Centrada no Utilizador', 'file': '2004_0017-Article.pdf', 'state': 'loaded'}\n",
      "{'ID': '2004_0019', 'event': 'Interacao2004', 'title': 'Compreensão da sinalética Serão os sinais de segurança compreendidos? ', 'file': '2004_0019-Article.pdf', 'state': 'loaded'}\n",
      "{'ID': '2004_0029', 'event': 'Interacao2004', 'title': 'Aspectos Cognitivos e Estéticos na Concepção de Interfaces para Espaços Hipermédia Baseados em Vídeo ', 'file': '2004_0029-Article.pdf', 'state': 'loaded'}\n",
      "{'ID': '2004_0030', 'event': 'Interacao2004', 'title': 'CanonSketch: uma ferramenta para Prototipagem Abstracta e Desenho de Padrões de Interface ', 'file': '2004_0030-Article.pdf', 'state': 'loaded'}\n",
      "{'ID': '2004_0037', 'event': 'Interacao2004', 'title': 'Interfaces to support the creation of multi-sensory messages: an application to environmental monitoring and education', 'file': '2004_0037-Article.pdf', 'state': 'loaded'}\n",
      "{'ID': '2004_0038', 'event': 'Interacao2004', 'title': 'Using the Semantic Web for Web Searches ', 'file': '2004_0038-Article.pdf', 'state': 'loaded'}\n",
      "\t#papers =  41\n",
      "\t  #auth =  35\n",
      "\n",
      "EPCG2005 13º Encontro Português de Computação Gráfica 2005\n",
      "{'ID': '2005_0006', 'event': 'EPCG2005', 'title': 'Superfícies de Coons: Estudo comparativo de alguns algoritmos de geração e análise da sua qualidade', 'file': '2005_0006-Article.pdf', 'state': 'loaded'}\n",
      "{'ID': '2005_0008', 'event': 'EPCG2005', 'title': 'Round Tables Algoritmo para Rasterização Run-length de Formas Convexas', 'file': '2005_0008-Article.pdf', 'state': 'loaded'}\n",
      "{'ID': '2005_0020', 'event': 'EPCG2005', 'title': 'Jogo Educacional para Telemóveis', 'file': '2005_0020-Article.pdf', 'state': 'loaded'}\n",
      "{'ID': '2005_0021', 'event': 'EPCG2005', 'title': 'InStory Client – a Browser for Spatial Narratives and Gaming Activities', 'file': '2005_0021-Article.pdf', 'state': 'loaded'}\n",
      "{'ID': '2005_0024', 'event': 'EPCG2005', 'title': \"Using Essential Reality's P5 glove as a low cost tracking device for Virtual Reality applications \", 'file': '2005_0024-Article.pdf', 'state': 'loaded'}\n",
      "{'ID': '2005_0037', 'event': 'EPCG2005', 'title': 'SeaView: a Seafloor and Habitat Visualizer', 'file': '2005_0037-Article.pdf', 'state': 'loaded'}\n",
      "\t#papers =  32\n",
      "\t  #auth =  26\n",
      "\n",
      "Interacao2006 2ª Conferência Nacional em Interacção Pessoa-Máquina 2006\n",
      "{'ID': '2006_0010', 'event': 'Interacao2006', 'title': 'Usabilidade–Técnicas de Baixo Custo', 'file': '2006_0010-Article.pdf', 'state': 'loaded'}\n",
      "{'ID': '2006_0011', 'event': 'Interacao2006', 'title': 'A Decisiva Importância da Usabilidade nas Aplicações Móveis', 'file': '2006_0011-Article.pdf', 'state': 'loaded'}\n",
      "{'ID': '2006_0012', 'event': 'Interacao2006', 'title': 'Wintouch-Valor pela intuitividade', 'file': '2006_0012-Article.pdf', 'state': 'loaded'}\n",
      "{'ID': '2006_0013', 'event': 'Interacao2006', 'title': 'DISPLAX-Desa?os de Sistemas de Interacção em Locais Públicos', 'file': '2006_0013-Article.pdf', 'state': 'loaded'}\n",
      "{'ID': '2006_0026', 'event': 'Interacao2006', 'title': 'Una Aproximación Sinestésica a la Interacción ', 'file': '2006_0026-Article.pdf', 'state': 'loaded'}\n",
      "{'ID': '2006_0027', 'event': 'Interacao2006', 'title': 'Gesture Human-Computer Interface for Command and Control', 'file': '2006_0027-Article.pdf', 'state': 'loaded'}\n",
      "{'ID': '2006_0044', 'event': 'Interacao2006', 'title': 'Conforto térmico humano: uma interface gráfica', 'file': '2006_0044-Article.pdf', 'state': 'loaded'}\n",
      "\t#papers =  40\n",
      "\t  #auth =  33\n",
      "\n",
      "EPCG2007 15º Encontro Português de Computação Gráfica 2007\n",
      "{'ID': '2007_0014', 'event': 'EPCG2007', 'title': 'Efficient Texture Tracking using Optical Flow and Back Projection ', 'file': '2007_0014-Article.pdf', 'state': 'loaded'}\n",
      "{'ID': '2007_0030', 'event': 'EPCG2007', 'title': 'Multimodal Presentations on a Multi-Projection Display ', 'file': '2007_0030-Article.pdf', 'state': 'loaded'}\n",
      "{'ID': '2007_0031', 'event': 'EPCG2007', 'title': 'Abstract Distributed Engine (ADE): A Library for Data Consistency in Distributed Virtual Environments ', 'file': '2007_0031-Article.pdf', 'state': 'loaded'}\n",
      "{'ID': '2007_0032', 'event': 'EPCG2007', 'title': 'Tela de Alfinetes Virtual ', 'file': '2007_0032-Article.pdf', 'state': 'loaded'}\n",
      "\t#papers =  25\n",
      "\t  #auth =  21\n",
      "\n",
      "--- TOTALS ---\n",
      "#events =  5\n",
      "#papers =  162\n",
      "#auth =  139\n"
     ]
    }
   ],
   "source": [
    "TotalPapers = 0\n",
    "TotalPapersAuth = 0\n",
    "for event in events:\n",
    "    print (event['acr'],event['name'],event['year'])\n",
    "    event_acr = event['acr']\n",
    "    nPapers=0\n",
    "    nPapersAuth=0\n",
    "    for article in articles:\n",
    "        if article['event']==event_acr:\n",
    "            nPapers+=1\n",
    "            if article['state']=='auth' or article['state']=='authF':\n",
    "                nPapersAuth += 1\n",
    "            else:\n",
    "                print (article)\n",
    "    print ('\\t#papers = ', nPapers)\n",
    "    print ('\\t  #auth = ', nPapersAuth)\n",
    "    if (nPapers==nPapersAuth):\n",
    "        print (\"**** COMPLETED ****\")\n",
    "    print()\n",
    "    TotalPapers += nPapers\n",
    "    TotalPapersAuth += nPapersAuth\n",
    "    \n",
    "print (\"--- TOTALS ---\")\n",
    "print (\"#events = \",len(events))\n",
    "print ('#papers = ', TotalPapers)\n",
    "print ('#auth = ', TotalPapersAuth)\n"
   ]
  },
  {
   "cell_type": "code",
   "execution_count": 5,
   "metadata": {},
   "outputs": [
    {
     "name": "stdout",
     "output_type": "stream",
     "text": [
      "That's all, folks!\n"
     ]
    }
   ],
   "source": [
    "print (\"That's all, folks!\")"
   ]
  },
  {
   "cell_type": "code",
   "execution_count": null,
   "metadata": {},
   "outputs": [],
   "source": []
  }
 ],
 "metadata": {
  "kernelspec": {
   "display_name": "Python 3",
   "language": "python",
   "name": "python3"
  },
  "language_info": {
   "codemirror_mode": {
    "name": "ipython",
    "version": 3
   },
   "file_extension": ".py",
   "mimetype": "text/x-python",
   "name": "python",
   "nbconvert_exporter": "python",
   "pygments_lexer": "ipython3",
   "version": "3.7.0"
  }
 },
 "nbformat": 4,
 "nbformat_minor": 2
}
