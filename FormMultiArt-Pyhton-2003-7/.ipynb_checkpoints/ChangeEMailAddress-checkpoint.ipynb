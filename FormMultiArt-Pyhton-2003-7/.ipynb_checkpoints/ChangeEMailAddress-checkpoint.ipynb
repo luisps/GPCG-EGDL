{
 "cells": [
  {
   "cell_type": "code",
   "execution_count": 1,
   "metadata": {},
   "outputs": [],
   "source": [
    "import pickle"
   ]
  },
  {
   "cell_type": "code",
   "execution_count": 2,
   "metadata": {},
   "outputs": [
    {
     "name": "stdout",
     "output_type": "stream",
     "text": [
      "There are 5 events!\n",
      "There are 162 articles!\n",
      "There are 341 authors!\n",
      "There are 506 articles-authors relationships!\n",
      "There are 321 forms!\n"
     ]
    }
   ],
   "source": [
    "# pkl files and data structures\n",
    "pkl_path = 'pkl\\\\'\n",
    "\n",
    "# load the events data structure (if it exists)\n",
    "events_fn = 'events.pkl'\n",
    "events_modified = False\n",
    "\n",
    "# verify if the file exists\n",
    "try:\n",
    "    with open(pkl_path+events_fn,\"rb\") as events_in:\n",
    "        events = pickle.load(events_in)\n",
    "except FileNotFoundError:\n",
    "    events = []\n",
    "print ('There are {0} events!'.format(len(events)))\n",
    "#print (events[0])\n",
    "\n",
    "# load the articles data structure (if it exists)\n",
    "articles_fn = 'articles.pkl'\n",
    "articles_modified = False\n",
    "\n",
    "# verify if the file exists\n",
    "try:\n",
    "    with open(pkl_path+articles_fn,\"rb\") as articles_in:\n",
    "        articles = pickle.load(articles_in)\n",
    "except FileNotFoundError:\n",
    "    articles = []\n",
    "print ('There are {0} articles!'.format(len(articles)))\n",
    "#print (articles[0])\n",
    "\n",
    "# load the authors data structure (if it exists)\n",
    "authors_fn = 'authors.pkl'\n",
    "authors_modified = False\n",
    "\n",
    "# verify if the file exists\n",
    "try:\n",
    "    with open(pkl_path+authors_fn,\"rb\") as authors_in:\n",
    "        authors = pickle.load(authors_in)\n",
    "except FileNotFoundError:\n",
    "    authors = []\n",
    "print ('There are {0} authors!'.format(len(authors)))\n",
    "#print (authors[0])\n",
    "\n",
    "# load the articles/authors data structure (if it exists)\n",
    "art_aut_fn = 'art_aut.pkl'\n",
    "art_aut_modified = False\n",
    "\n",
    "# verify if the file exists\n",
    "try:\n",
    "    with open(pkl_path+art_aut_fn,\"rb\") as art_aut_in:\n",
    "        art_aut = pickle.load(art_aut_in)\n",
    "except FileNotFoundError:\n",
    "    art_aut = []\n",
    "print ('There are {0} articles-authors relationships!'.format(len(art_aut)))\n",
    "#print (art_aut[0])\n",
    "\n",
    "# load the forms data structure (if it exists)\n",
    "forms_fn = 'forms.pkl'\n",
    "forms_modified = False\n",
    "\n",
    "# verify if the file exists\n",
    "try:\n",
    "    with open(pkl_path+forms_fn,\"rb\") as forms_in:\n",
    "        forms = pickle.load(forms_in)\n",
    "except FileNotFoundError:\n",
    "    forms = []\n",
    "print ('There are {0} forms!'.format(len(forms)))\n",
    "#print (forms[0])\n"
   ]
  },
  {
   "cell_type": "code",
   "execution_count": 3,
   "metadata": {
    "scrolled": false
   },
   "outputs": [
    {
     "name": "stdout",
     "output_type": "stream",
     "text": [
      "{'auth': 57, 'ignore': 144, 'loaded': 46, 'emailNotFound': 17, 'newEmail': 13, 'undelivered': 44}\n"
     ]
    }
   ],
   "source": [
    "# check forms: if all papers have been 'auth' then ignore form\n",
    "form_count = {}\n",
    "for form in forms:\n",
    "    \n",
    "    if form['state'] in form_count:\n",
    "        form_count[form['state']] += 1\n",
    "    else:\n",
    "        form_count[form['state']] = 1\n",
    "        \n",
    "print (form_count)\n",
    "\n",
    "    "
   ]
  },
  {
   "cell_type": "code",
   "execution_count": 4,
   "metadata": {},
   "outputs": [
    {
     "name": "stdout",
     "output_type": "stream",
     "text": [
      "\n",
      "-------------------\n",
      "Form 91: undelivered\n",
      "Author name: Rafael Bastos\n",
      "Author current email: rafael.bastos@iscte.pt\n",
      "Title: ARTIC: Augmented Reality Tangible Interface by Color Evaluation \n",
      "Event: Interacao2004\n",
      "Title: The Arena: Ao Indoor Mixed Reality Space \n",
      "Event: Interacao2004\n",
      "Mark form as email not found (l), leave as undelivered (u), insert new email (e) or terminate (0):e\n",
      "Introduza email: info@eyenov.com\n",
      "\n",
      "-------------------\n",
      "Form 92: undelivered\n",
      "Author name: Luis Monteiro\n",
      "Author current email: luis.monteiro@iscte.p\n",
      "Title: The Arena: Ao Indoor Mixed Reality Space \n",
      "Event: Interacao2004\n",
      "Mark form as email not found (l), leave as undelivered (u), insert new email (e) or terminate (0):l\n",
      "\n",
      "-------------------\n",
      "Form 103: undelivered\n",
      "Author name: Nuno J. Nunes\n",
      "Author current email: njn@uma.pt \n",
      "Title: CanonSketch: uma ferramenta para Prototipagem Abstracta e Desenho de Padrões de Interface \n",
      "Event: Interacao2004\n",
      "Mark form as email not found (l), leave as undelivered (u), insert new email (e) or terminate (0):e\n",
      "Introduza email: njn@uma.pt\n",
      "\n",
      "-------------------\n",
      "Form 104: undelivered\n",
      "Author name: Luís Romero\n",
      "Author current email: lmcr@di.fct.unl.pt \n",
      "Title: Construção de Aplicações Hipermédia para Realidade Mista \n",
      "Event: Interacao2004\n",
      "Mark form as email not found (l), leave as undelivered (u), insert new email (e) or terminate (0):e\n",
      "Introduza email: romero@estg.ipvc.pt\n",
      "\n",
      "-------------------\n",
      "Form 105: undelivered\n",
      "Author name: Jorge Santiago\n",
      "Author current email: jms@di.fct.unl.pt \n",
      "Title: Construção de Aplicações Hipermédia para Realidade Mista \n",
      "Event: Interacao2004\n",
      "Mark form as email not found (l), leave as undelivered (u), insert new email (e) or terminate (0):0\n"
     ]
    }
   ],
   "source": [
    "#  loop through undelivered forms\n",
    "forms_modified = False\n",
    "for form_nbr, form in enumerate(forms):\n",
    "\n",
    "    if form['state']!='undelivered':\n",
    "        continue\n",
    "        \n",
    "    print ('\\n-------------------\\nForm {0}: undelivered'.format(form_nbr))\n",
    "    \n",
    "    # Locate author\n",
    "    auth_ID = form['ID']\n",
    "    \n",
    "    author_found = False\n",
    "    for author in authors:\n",
    "        if author['ID']==auth_ID:\n",
    "            author_found = True\n",
    "            break\n",
    "        \n",
    "    if not author_found:\n",
    "        print ('Can\\'t find author:', auth_ID)\n",
    "        continue\n",
    "\n",
    "    # Print author data\n",
    "    print('Author name: {0}\\nAuthor current email: {1}'.format(author['name'], author['email']))\n",
    "    \n",
    "    # Locate papers\n",
    "    for art_ID in form['articles']:\n",
    "        art_found = False\n",
    "        for article in articles:\n",
    "            if article['ID']==art_ID:\n",
    "                print ('Title: {0}\\nEvent: {1}'.format(article['title'], article['event']))\n",
    "                art_found = True\n",
    "                break\n",
    "        if not art_found:\n",
    "            print ('Paper ID {0} not found!'.format(art_ID))\n",
    "    \n",
    "    # Select an option\n",
    "    authorize = input ('Mark form as email not found (l), leave as undelivered (u), insert new email (e) or terminate (0):')\n",
    "    if authorize=='0':\n",
    "        break\n",
    "    elif authorize in ('u','U'): \n",
    "        continue\n",
    "    elif authorize in ('l','L'):\n",
    "        form['state'] = 'emailNotFound'\n",
    "        forms_modified = True\n",
    "    elif authorize in ('e','E'):\n",
    "        email = input ('Introduza email: ')\n",
    "        author['email'] = email\n",
    "        form['state'] = 'newEmail'\n",
    "        forms_modified = True\n",
    "        \n",
    "    \n"
   ]
  },
  {
   "cell_type": "code",
   "execution_count": 5,
   "metadata": {},
   "outputs": [
    {
     "name": "stdout",
     "output_type": "stream",
     "text": [
      "Data written to disk!\n"
     ]
    }
   ],
   "source": [
    "if forms_modified:\n",
    "    with open(pkl_path+forms_fn,\"wb\") as forms_out:\n",
    "        pickle.dump(forms, forms_out)\n",
    "    with open(pkl_path+articles_fn,\"wb\") as articles_out:\n",
    "        pickle.dump(articles, articles_out)\n",
    "    with open(pkl_path+authors_fn,\"wb\") as authors_out:\n",
    "        pickle.dump(authors, authors_out)\n",
    "\n",
    "    print (\"Data written to disk!\")\n"
   ]
  },
  {
   "cell_type": "code",
   "execution_count": 6,
   "metadata": {},
   "outputs": [
    {
     "name": "stdout",
     "output_type": "stream",
     "text": [
      "That's all, folks!\n"
     ]
    }
   ],
   "source": [
    "print (\"That's all, folks!\")"
   ]
  },
  {
   "cell_type": "code",
   "execution_count": null,
   "metadata": {},
   "outputs": [],
   "source": []
  }
 ],
 "metadata": {
  "kernelspec": {
   "display_name": "Python 3",
   "language": "python",
   "name": "python3"
  },
  "language_info": {
   "codemirror_mode": {
    "name": "ipython",
    "version": 3
   },
   "file_extension": ".py",
   "mimetype": "text/x-python",
   "name": "python",
   "nbconvert_exporter": "python",
   "pygments_lexer": "ipython3",
   "version": "3.7.0"
  }
 },
 "nbformat": 4,
 "nbformat_minor": 2
}
