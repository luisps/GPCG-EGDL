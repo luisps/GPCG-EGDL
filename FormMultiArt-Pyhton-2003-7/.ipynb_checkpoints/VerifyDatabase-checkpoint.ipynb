{
 "cells": [
  {
   "cell_type": "code",
   "execution_count": 1,
   "metadata": {},
   "outputs": [],
   "source": [
    "import pickle"
   ]
  },
  {
   "cell_type": "code",
   "execution_count": 2,
   "metadata": {},
   "outputs": [
    {
     "name": "stdout",
     "output_type": "stream",
     "text": [
      "There are 0 events!\n",
      "There are 0 articles!\n",
      "There are 0 authors!\n",
      "There are 0 articles-authors relationships!\n",
      "There are 0 forms!\n"
     ]
    }
   ],
   "source": [
    "# pkl files and data structures\n",
    "pkl_path = 'pkl\\\\'\n",
    "\n",
    "# load the events data structure (if it exists)\n",
    "events_fn = 'events.pkl'\n",
    "events_modified = False\n",
    "\n",
    "# verify if the file exists\n",
    "try:\n",
    "    with open(pkl_path+events_fn,\"rb\") as events_in:\n",
    "        events = pickle.load(events_in)\n",
    "except FileNotFoundError:\n",
    "    events = []\n",
    "print ('There are {0} events!'.format(len(events)))\n",
    "#print (events)\n",
    "\n",
    "# load the articles data structure (if it exists)\n",
    "articles_fn = 'articles.pkl'\n",
    "articles_modified = False\n",
    "\n",
    "# verify if the file exists\n",
    "try:\n",
    "    with open(pkl_path+articles_fn,\"rb\") as articles_in:\n",
    "        articles = pickle.load(articles_in)\n",
    "except FileNotFoundError:\n",
    "    articles = []\n",
    "print ('There are {0} articles!'.format(len(articles)))\n",
    "#print (articles)\n",
    "\n",
    "# load the authors data structure (if it exists)\n",
    "authors_fn = 'authors.pkl'\n",
    "authors_modified = False\n",
    "\n",
    "# verify if the file exists\n",
    "try:\n",
    "    with open(pkl_path+authors_fn,\"rb\") as authors_in:\n",
    "        authors = pickle.load(authors_in)\n",
    "except FileNotFoundError:\n",
    "    authors = []\n",
    "print ('There are {0} authors!'.format(len(authors)))\n",
    "#print (authors)\n",
    "\n",
    "# load the articles/authors data structure (if it exists)\n",
    "art_aut_fn = 'art_aut.pkl'\n",
    "art_aut_modified = False\n",
    "\n",
    "# verify if the file exists\n",
    "try:\n",
    "    with open(pkl_path+art_aut_fn,\"rb\") as art_aut_in:\n",
    "        art_aut = pickle.load(art_aut_in)\n",
    "except FileNotFoundError:\n",
    "    art_aut = []\n",
    "print ('There are {0} articles-authors relationships!'.format(len(art_aut)))\n",
    "#print (art_aut)\n",
    "\n",
    "# load the forms data structure (if it exists)\n",
    "forms_fn = 'forms.pkl'\n",
    "forms_modified = False\n",
    "\n",
    "# verify if the file exists\n",
    "try:\n",
    "    with open(pkl_path+forms_fn,\"rb\") as forms_in:\n",
    "        forms = pickle.load(forms_in)\n",
    "except FileNotFoundError:\n",
    "    forms = []\n",
    "print ('There are {0} forms!'.format(len(forms)))\n",
    "#print (art_aut)\n"
   ]
  },
  {
   "cell_type": "code",
   "execution_count": null,
   "metadata": {},
   "outputs": [],
   "source": [
    "art_count ={}\n",
    "for form in forms:\n",
    "    nArt = len(form['articles'])\n",
    "    str_nArt = str(nArt)\n",
    "    if str_nArt in art_count:\n",
    "        art_count[str_nArt] += 1\n",
    "    else:\n",
    "        art_count[str_nArt] = 1\n",
    "        \n",
    "    if nArt>10:\n",
    "        print (form['ID'])\n",
    "        for author in authors:\n",
    "            if author['ID']==form['ID']:\n",
    "                print (author['name'])\n",
    "        print (form['articles'])\n",
    "        \n",
    "\n",
    "print (art_count)"
   ]
  },
  {
   "cell_type": "code",
   "execution_count": null,
   "metadata": {},
   "outputs": [],
   "source": [
    "for article in articles:\n",
    "    print(article)\n",
    "    print()"
   ]
  },
  {
   "cell_type": "code",
   "execution_count": null,
   "metadata": {
    "scrolled": false
   },
   "outputs": [],
   "source": [
    "for author in authors:\n",
    "    print (author['name'], ' ', author['email'])\n",
    "    for form in forms:\n",
    "        if author['ID']==form['ID']:\n",
    "            print (form['file'])\n",
    "            print (form['articles'])\n",
    "            break\n",
    "    print()\n"
   ]
  },
  {
   "cell_type": "code",
   "execution_count": null,
   "metadata": {},
   "outputs": [],
   "source": []
  }
 ],
 "metadata": {
  "kernelspec": {
   "display_name": "Python 3",
   "language": "python",
   "name": "python3"
  },
  "language_info": {
   "codemirror_mode": {
    "name": "ipython",
    "version": 3
   },
   "file_extension": ".py",
   "mimetype": "text/x-python",
   "name": "python",
   "nbconvert_exporter": "python",
   "pygments_lexer": "ipython3",
   "version": "3.7.0"
  }
 },
 "nbformat": 4,
 "nbformat_minor": 2
}
